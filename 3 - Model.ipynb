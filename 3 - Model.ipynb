{
 "cells": [
  {
   "cell_type": "code",
   "execution_count": 1,
   "metadata": {},
   "outputs": [],
   "source": [
    "import pandas as pd\n",
    "from sklearn.model_selection import train_test_split\n",
    "from sklearn.preprocessing import StandardScaler\n",
    "from sklearn.ensemble import RandomForestClassifier\n",
    "from sklearn.metrics import classification_report, accuracy_score, confusion_matrix\n",
    "import matplotlib.pyplot as plt\n",
    "import seaborn as sns"
   ]
  },
  {
   "cell_type": "code",
   "execution_count": 2,
   "metadata": {},
   "outputs": [],
   "source": [
    "columns_to_retain = [\n",
    "    'INVOICEAMOUNT', \n",
    "    'SETTLEDAMOUNT', \n",
    "    'INVOICELINEUSERSTATUS', \n",
    "    'PRODUCT',\n",
    "    'INVOICESTATUS', \n",
    "    'Claims_Invoice_Status', \n",
    "    'Claim_Decline_Status',\n",
    "    'INVOICECURRENCYDENIEDAMOUNT', \n",
    "    'FIRSTDIAGNOSIS', \n",
    "    'SECONDDIAGNOSIS',\n",
    "    'PAYMENTSTATUSDESC', \n",
    "    'CURACEL_STATUS', \n",
    "    'CURACEL_AMOUNT'\n",
    "]"
   ]
  },
  {
   "cell_type": "code",
   "execution_count": null,
   "metadata": {},
   "outputs": [],
   "source": [
    "df = pd.read_csv('Register.csv')"
   ]
  }
 ],
 "metadata": {
  "kernelspec": {
   "display_name": "jubilee",
   "language": "python",
   "name": "python3"
  },
  "language_info": {
   "codemirror_mode": {
    "name": "ipython",
    "version": 3
   },
   "file_extension": ".py",
   "mimetype": "text/x-python",
   "name": "python",
   "nbconvert_exporter": "python",
   "pygments_lexer": "ipython3",
   "version": "3.10.7"
  }
 },
 "nbformat": 4,
 "nbformat_minor": 2
}
